{
  "nbformat": 4,
  "nbformat_minor": 0,
  "metadata": {
    "colab": {
      "name": "Untitled0.ipynb",
      "provenance": [],
      "authorship_tag": "ABX9TyNr/fuGZucpkIy1V2nno4VM"
    },
    "kernelspec": {
      "name": "python3",
      "display_name": "Python 3"
    },
    "language_info": {
      "name": "python"
    }
  },
  "cells": [
    {
      "cell_type": "code",
      "execution_count": 3,
      "metadata": {
        "colab": {
          "base_uri": "https://localhost:8080/"
        },
        "id": "EVtmk1-WfX5W",
        "outputId": "b14e696d-9a6f-48e0-c389-c36bbe4de879"
      },
      "outputs": [
        {
          "output_type": "stream",
          "name": "stdout",
          "text": [
            "primo esempio notebook per corso DA\n"
          ]
        }
      ],
      "source": [
        "print(\"primo esempio notebook per corso DA\")"
      ]
    },
    {
      "cell_type": "code",
      "source": [
        "print(\"test per salvare modifiche direttamente su github\")"
      ],
      "metadata": {
        "id": "NDqawxeagiDM",
        "outputId": "1cbb5104-9986-4a4e-aaf9-e45cfbea3ef8",
        "colab": {
          "base_uri": "https://localhost:8080/"
        }
      },
      "execution_count": 2,
      "outputs": [
        {
          "output_type": "stream",
          "name": "stdout",
          "text": [
            "test per salvare modifiche direttamente su github\n"
          ]
        }
      ]
    }
  ]
}